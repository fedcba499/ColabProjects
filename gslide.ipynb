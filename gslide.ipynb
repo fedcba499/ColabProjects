{
 "cells": [
  {
   "cell_type": "code",
   "execution_count": 1,
   "id": "98052343-6e84-4cea-a31a-2b4eb23daa81",
   "metadata": {},
   "outputs": [
    {
     "name": "stdin",
     "output_type": "stream",
     "text": [
      "Please enter Google Slides Link -  https://docs.google.com/presentation/d/1Vdv3ifbKLDMWsAc1LzDyaaHl3dGP0oCA/edit?usp=drive_link\n"
     ]
    },
    {
     "name": "stdout",
     "output_type": "stream",
     "text": [
      "Total Number of Slides: 9\n",
      "Page 1 was captured.\n",
      "Page 2 was captured.\n",
      "Page 3 was captured.\n",
      "Page 4 was captured.\n",
      "Page 5 was captured.\n",
      "Page 6 was captured.\n",
      "Page 7 was captured.\n",
      "Page 8 was captured.\n",
      "Page 9 was captured.\n",
      "Done\n"
     ]
    }
   ],
   "source": [
    "#-*- coding: utf-8 -*-\n",
    "\n",
    "import os, time\n",
    "from selenium.webdriver.common.action_chains import ActionChains\n",
    "from selenium.webdriver.common.keys import Keys\n",
    "from selenium import webdriver\n",
    "from PIL import Image\n",
    "\n",
    "def capture_gslide(gslide_url):\n",
    "    driver = webdriver.Chrome()\n",
    "    driver.implicitly_wait(10)\n",
    "    driver.get(gslide_url)\n",
    "    time.sleep(3)\n",
    "\n",
    "    title = driver.title.split('.',1)[0]\n",
    "\n",
    "    # get the number of slides\n",
    "    actions = ActionChains(driver)\n",
    "    actions.send_keys(Keys.END)\n",
    "    actions.perform()\n",
    "    max_page = int(driver.current_url.rsplit('.',1)[-1][1:])\n",
    "    print(\"Total Number of Slides: \" + str(max_page))\n",
    "    time.sleep(3)\n",
    "\n",
    "    # start the presentation\n",
    "    keys = Keys()\n",
    "    actions = ActionChains(driver)\n",
    "    actions.send_keys(keys.CONTROL + keys.SHIFT + keys.F5)\n",
    "    actions.key_down(keys.SHIFT).key_down(keys.CONTROL).send_keys(keys.F5)\n",
    "    actions.perform()\n",
    "    time.sleep(8)\n",
    "\n",
    "    # move to next page until the end\n",
    "    actions = ActionChains(driver)\n",
    "    counter = 1\n",
    "    image_list = []\n",
    "    save_folder = \"C:\\\\\"+ title\n",
    "    os.mkdir(save_folder)\n",
    "\n",
    "    while counter <= int(max_page):\n",
    "        if counter > int(driver.current_url.rsplit('.',1)[-1][1:]):\n",
    "            counter -= 1 \n",
    "        fname = '{}.png'.format(str(counter).zfill(2))\n",
    "        pdfname = title + \".pdf\"\n",
    "        save_dir = os.path.join(save_folder, fname)\n",
    "        save_pdf = os.path.join(save_folder, pdfname)\n",
    "        driver.save_screenshot(save_dir)\n",
    "        print('Page '+str(counter) + ' was captured.')\n",
    "\n",
    "        im = Image.open(save_dir)\n",
    "        image = im.convert('RGB')\n",
    "        image_list.append(image)        \n",
    "\n",
    "        if(counter == max_page):\n",
    "            image_list[0].save(save_pdf, save_all=True, append_images=image_list[1:])\n",
    "\n",
    "        counter = int(driver.current_url.rsplit('.',1)[-1][1:])+1\n",
    "\n",
    "        actions.click()\n",
    "        actions.perform()\n",
    "\n",
    "        time.sleep(2)       \n",
    "\n",
    "\n",
    "    print('Done')\n",
    "\n",
    "url = input(\"Please enter Google Slides Link - \")\n",
    "\n",
    "capture_gslide(url)"
   ]
  },
  {
   "cell_type": "code",
   "execution_count": null,
   "id": "ced4f0b8-8f6f-4483-a1cb-9087384a891a",
   "metadata": {},
   "outputs": [],
   "source": []
  }
 ],
 "metadata": {
  "kernelspec": {
   "display_name": "Python 3 (ipykernel)",
   "language": "python",
   "name": "python3"
  },
  "language_info": {
   "codemirror_mode": {
    "name": "ipython",
    "version": 3
   },
   "file_extension": ".py",
   "mimetype": "text/x-python",
   "name": "python",
   "nbconvert_exporter": "python",
   "pygments_lexer": "ipython3",
   "version": "3.10.9"
  }
 },
 "nbformat": 4,
 "nbformat_minor": 5
}
